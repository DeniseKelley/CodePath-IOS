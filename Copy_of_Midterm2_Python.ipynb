{
  "nbformat": 4,
  "nbformat_minor": 5,
  "metadata": {
    "kernelspec": {
      "display_name": "Python 3 (ipykernel)",
      "language": "python",
      "name": "python3"
    },
    "language_info": {
      "codemirror_mode": {
        "name": "ipython",
        "version": 3
      },
      "file_extension": ".py",
      "mimetype": "text/x-python",
      "name": "python",
      "nbconvert_exporter": "python",
      "pygments_lexer": "ipython3",
      "version": "3.8.11"
    },
    "colab": {
      "name": "Copy of Midterm2_Python.ipynb",
      "provenance": [],
      "collapsed_sections": [],
      "include_colab_link": true
    }
  },
  "cells": [
    {
      "cell_type": "markdown",
      "metadata": {
        "id": "view-in-github",
        "colab_type": "text"
      },
      "source": [
        "<a href=\"https://colab.research.google.com/github/DeniseKelley/CodePath-IOS/blob/main/Copy_of_Midterm2_Python.ipynb\" target=\"_parent\"><img src=\"https://colab.research.google.com/assets/colab-badge.svg\" alt=\"Open In Colab\"/></a>"
      ]
    },
    {
      "cell_type": "markdown",
      "metadata": {
        "id": "26cae3ab"
      },
      "source": [
        "# Midterm 2:  Python Problems\n",
        "\n",
        "\n",
        "There are three python problems.  Answer all the sections marked `#TODO`.  Print to PDF.  Submit the PDF only. "
      ],
      "id": "26cae3ab"
    },
    {
      "cell_type": "markdown",
      "metadata": {
        "id": "77f95933"
      },
      "source": [
        "## Loading Packages and Data\n",
        "\n",
        "For the problems, you can use the following packages"
      ],
      "id": "77f95933"
    },
    {
      "cell_type": "code",
      "metadata": {
        "id": "f118a9bc"
      },
      "source": [
        "import numpy as np\n",
        "import matplotlib.pyplot as plt\n",
        "import pickle"
      ],
      "id": "f118a9bc",
      "execution_count": 1,
      "outputs": []
    },
    {
      "cell_type": "markdown",
      "metadata": {
        "id": "59a49e4a"
      },
      "source": [
        "Run the following code to download the data for the midterm.  This will retrieve three files -- one for each problem."
      ],
      "id": "59a49e4a"
    },
    {
      "cell_type": "code",
      "metadata": {
        "colab": {
          "base_uri": "https://localhost:8080/"
        },
        "id": "03ad6c0b",
        "outputId": "0ceb34a3-3ac2-4efb-e7e3-d6efb13ac02c"
      },
      "source": [
        "import requests\n",
        "\n",
        "def download_file_from_google_drive(id, destination):\n",
        "    URL = \"https://docs.google.com/uc?export=download\"\n",
        "\n",
        "    session = requests.Session()\n",
        "\n",
        "    response = session.get(URL, params = { 'id' : id }, stream = True)\n",
        "    token = get_confirm_token(response)\n",
        "\n",
        "    if token:\n",
        "        params = { 'id' : id, 'confirm' : token }\n",
        "        response = session.get(URL, params = params, stream = True)\n",
        "\n",
        "    save_response_content(response, destination)    \n",
        "\n",
        "def get_confirm_token(response):\n",
        "    for key, value in response.cookies.items():\n",
        "        if key.startswith('download_warning'):\n",
        "            return value\n",
        "\n",
        "    return None\n",
        "\n",
        "def save_response_content(response, destination):\n",
        "    CHUNK_SIZE = 32768\n",
        "\n",
        "    with open(destination, \"wb\") as f:\n",
        "        for chunk in response.iter_content(CHUNK_SIZE):\n",
        "            if chunk: # filter out keep-alive new chunks\n",
        "                f.write(chunk)\n",
        "                \n",
        "file_path = 'https://drive.google.com/file/d/1lGITFTWO4MJ-BcHnfgj5tWFNtMOO6r53/view?usp=sharing'\n",
        "                \n",
        "file_path = 'https://drive.google.com/file/d/10_1PxDIoSiuuOFC_iyVaoU9bDiQYHcTT/view?usp=sharing'\n",
        "file_id = '1lGITFTWO4MJ-BcHnfgj5tWFNtMOO6r53'\n",
        "\n",
        "dst = 'midterm_data.zip'\n",
        "download_file_from_google_drive(file_id, dst)\n",
        "\n",
        "\n",
        "# Unzip the files\n",
        "import zipfile\n",
        "with zipfile.ZipFile(dst, 'r') as zip_ref:\n",
        "    zip_ref.extractall('data')\n",
        "    \n",
        "    \n",
        "# Move them to the top directory\n",
        "import shutil\n",
        "for fn in ['prob_opt.p', 'prob_svm.p', 'prob_nn.p']:\n",
        "    src = 'data/midterm2_data/%s' % fn\n",
        "    shutil.move(src, fn)\n",
        "    print('%s loaded' % fn)"
      ],
      "id": "03ad6c0b",
      "execution_count": 2,
      "outputs": [
        {
          "output_type": "stream",
          "name": "stdout",
          "text": [
            "prob_opt.p loaded\n",
            "prob_svm.p loaded\n",
            "prob_nn.p loaded\n"
          ]
        }
      ]
    },
    {
      "cell_type": "markdown",
      "metadata": {
        "id": "609114f0"
      },
      "source": [
        "## Problem 1.  Nonlinear Optimization"
      ],
      "id": "609114f0"
    },
    {
      "cell_type": "markdown",
      "metadata": {
        "id": "36cea115"
      },
      "source": [
        "Run the following code to load the data"
      ],
      "id": "36cea115"
    },
    {
      "cell_type": "code",
      "metadata": {
        "id": "09572e13"
      },
      "source": [
        "with open('prob_opt.p', 'rb') as fp:\n",
        "    X,y = pickle.load(fp)"
      ],
      "id": "09572e13",
      "execution_count": 3,
      "outputs": []
    },
    {
      "cell_type": "markdown",
      "metadata": {
        "id": "7e92fc43"
      },
      "source": [
        "We want to fit a model of the form:\n",
        "\n",
        "     yhat[i] = X[i,0]*w[0] + X[i,1]*w[1]\n",
        "     \n",
        "for parameters `w=[w[0], w[1]]`.  To do this we minimize the loss:\n",
        "\n",
        "     J(w) = \\sum_i (yhat[i] - y[i])**2\n",
        "     \n",
        "Complete the following function `Jeval` which returns the `J(w)` and the gradient\n",
        "`Jgrad`."
      ],
      "id": "7e92fc43"
    },
    {
      "cell_type": "code",
      "metadata": {
        "id": "11052255"
      },
      "source": [
        "def Jeval(w,X,y):\n",
        "    \n",
        "    # TODO\n",
        "    a=w[0]\n",
        "    b=w[1]\n",
        "    \n",
        "    #z[i]=X[:,0]*a+X[:,1]*b\n",
        "    #yhat[i]=1/(1+exp(-z[i]))\n",
        "\n",
        "    z = X[:,0]*a+X[:,1]*b\n",
        "    yhat=1/(1+np.exp(-z))\n",
        "    dif = (yhat-y)\n",
        "\n",
        "    #dyhat/dz = (np.exp(-z))/((1+np.exp(-z)**2)\n",
        "    #dz/da = dy/dz*X[:,0]\n",
        "    #dz/db = dy/dz*X[:,1]\n",
        "    \n",
        "    dyhat_dz = (np.exp(-z)) / ( (1+np.exp(-z))**2)\n",
        "    dz_da = 2*np.sum(dif*dyhat_dz*(X[:,0]))\n",
        "    dz_db = 2*np.sum(dif*dyhat_dz*(X[:,1]))\n",
        "      \n",
        "    J=np.sum((yhat-y)**2)\n",
        "\n",
        "    Jgrad = ([dz_da,dz_db ])\n",
        "    Jgrad = np.array(Jgrad)\n",
        "    return J, Jgrad \n",
        "\n"
      ],
      "id": "11052255",
      "execution_count": 4,
      "outputs": []
    },
    {
      "cell_type": "markdown",
      "metadata": {
        "id": "432d3c28"
      },
      "source": [
        "Test the gradient as follows:\n",
        "*  Take a random initial condition, `w0` \n",
        "*  Take a second random input `w1` close to `w0`\n",
        "*  Compare `J(w1)-J(w0)` with the expected difference based on the gradient."
      ],
      "id": "432d3c28"
    },
    {
      "cell_type": "code",
      "metadata": {
        "colab": {
          "base_uri": "https://localhost:8080/"
        },
        "id": "9307c03c",
        "outputId": "101b9488-0357-49b6-8d51-013e1915e2e3"
      },
      "source": [
        "# Random point w0\n",
        "d = X.shape[1]\n",
        "w0 = np.random.normal(0,1,d)\n",
        "\n",
        "step = 1e-3\n",
        "w1 = w0-step*np.random.normal(0,1,d) \n",
        "f0 ,  fgrad0  = Jeval(w0,X,y)\n",
        "f1,fgrad1= Jeval(w1,X,y)\n",
        "dJ_act=f0-f1\n",
        "print(fgrad0)\n",
        "print(fgrad1)\n",
        "fgrad0= np.array(fgrad0)\n",
        "dJ_exp = fgrad0.dot((w1-w0))\n",
        "print('Actual difference:     %12.4e' % dJ_act)\n",
        "print('Estimated difference:  %12.4e' % dJ_exp)\n",
        "# TODO\n",
        "#  w1 = ...\n",
        "#  dJ_act = ...\n",
        "#  dJ_exp = ...\n"
      ],
      "id": "9307c03c",
      "execution_count": 5,
      "outputs": [
        {
          "output_type": "stream",
          "name": "stdout",
          "text": [
            "[-17.22250255 -59.39842246]\n",
            "[-17.22155244 -59.39797481]\n",
            "Actual difference:       3.3179e-03\n",
            "Estimated difference:   -3.3180e-03\n"
          ]
        }
      ]
    },
    {
      "cell_type": "markdown",
      "metadata": {
        "id": "4aca7368"
      },
      "source": [
        "Implement basic gradient descent:\n",
        "\n",
        "*  Start at the initial condition `w0` from above\n",
        "*  Use a step size of `step=1e-2`\n",
        "*  On each iteration, `it`, save the loss and the norm squared of the gradient:\n",
        "       \n",
        "       Jhist[it] = J\n",
        "       gnormhist[it] = sum_i Jgrad[i]**2 \n",
        "       \n",
        "*  Run until the gradient satisfies: `gnormhist[it] < tol` where `tol=1e-3` or we exceed `nit_max=1000` iterations\n",
        "*  Print the final value of `w`\n",
        "*  On two separate plots, plot the `Jhist` and `gnormhist` as a function of the iteration number.  For `gnormhist` use `plt.semilogy`."
      ],
      "id": "4aca7368"
    },
    {
      "cell_type": "code",
      "metadata": {
        "colab": {
          "base_uri": "https://localhost:8080/"
        },
        "id": "HyKwr57RPUoe",
        "outputId": "6b3bd55d-db62-4d49-bbde-4c7a537cab71"
      },
      "source": [
        "nit_max = 1000 \n",
        "step = 1e-2\n",
        "tol = 1e-3\n",
        "w=w0\n",
        "Jhist = np.zeros(nit_max)\n",
        "gnormhist = np.zeros(nit_max)\n",
        "\n",
        "print(\"w init\", w)\n",
        "for it in range(nit_max):\n",
        "  f, fgrad = Jeval(w, X,y)\n",
        "  \n",
        "  Jhist[it] = f\n",
        "  gnormhist[it] =  np.sum(fgrad**2)\n",
        "  w=w-step*fgrad \n",
        "\n",
        "print(\"w final\", w)\n",
        "\n"
      ],
      "id": "HyKwr57RPUoe",
      "execution_count": 6,
      "outputs": [
        {
          "output_type": "stream",
          "name": "stdout",
          "text": [
            "w init [ 0.22880441 -1.52126858]\n",
            "w final [1.98739138 3.98771254]\n"
          ]
        }
      ]
    },
    {
      "cell_type": "code",
      "metadata": {
        "colab": {
          "base_uri": "https://localhost:8080/",
          "height": 301
        },
        "id": "lg2Fh1l_Y686",
        "outputId": "633481db-26a6-4498-da6d-0e963a76d218"
      },
      "source": [
        "a = np.linspace(-1,1,1000)\n",
        "plt.plot(a, Jhist)\n",
        "plt.grid()\n",
        "plt.ylabel('Iteration')\n",
        "plt.xlabel('Jhist')"
      ],
      "id": "lg2Fh1l_Y686",
      "execution_count": 8,
      "outputs": [
        {
          "output_type": "execute_result",
          "data": {
            "text/plain": [
              "Text(0.5, 0, 'Jhist')"
            ]
          },
          "metadata": {},
          "execution_count": 8
        },
        {
          "output_type": "display_data",
          "data": {
            "image/png": "[encoded data removed]",
            "text/plain": [
              "<Figure size 432x288 with 1 Axes>"
            ]
          },
          "metadata": {
            "needs_background": "light"
          }
        }
      ]
    },
    {
      "cell_type": "code",
      "metadata": {
        "colab": {
          "base_uri": "https://localhost:8080/",
          "height": 298
        },
        "id": "igqRdYN2Q038",
        "outputId": "45b87dfc-e41f-4702-867a-53037a3483bb"
      },
      "source": [
        "b = np.linspace(-1,1,1000)\n",
        "plt.semilogy(b, gnormhist)\n",
        "plt.grid()\n",
        "plt.ylabel('Iteration')\n",
        "plt.xlabel('gnormhist')"
      ],
      "id": "igqRdYN2Q038",
      "execution_count": 9,
      "outputs": [
        {
          "output_type": "execute_result",
          "data": {
            "text/plain": [
              "Text(0.5, 0, 'gnormhist')"
            ]
          },
          "metadata": {},
          "execution_count": 9
        },
        {
          "output_type": "display_data",
          "data": {
            "image/png": "[encoded data removed]",
            "text/plain": [
              "<Figure size 432x288 with 1 Axes>"
            ]
          },
          "metadata": {
            "needs_background": "light"
          }
        }
      ]
    },
    {
      "cell_type": "markdown",
      "metadata": {
        "id": "89b0489b"
      },
      "source": [
        "## Problem 2.   SVM"
      ],
      "id": "89b0489b"
    },
    {
      "cell_type": "markdown",
      "metadata": {
        "id": "5666bd4c"
      },
      "source": [
        "We consider a simple binary classification problem of discriminating between MNIST digits with class `5` (label `y=-1`)\n",
        "and class `6` (label `y=1`).  To make the problem simple, we have randomly selected 100 digits for training and test for each class.  \n",
        "  \n",
        "Run the following command which loads the data and plot examples from the training data set and the binary labels."
      ],
      "id": "5666bd4c"
    },
    {
      "cell_type": "code",
      "metadata": {
        "colab": {
          "base_uri": "https://localhost:8080/",
          "height": 110
        },
        "id": "0c7623b8",
        "outputId": "bed96d2e-bc50-46fc-dfa6-5daa130b7bd1"
      },
      "source": [
        "with open('prob_svm.p', 'rb') as fp:\n",
        "    Xtr,Xts,ytr,yts = pickle.load(fp)\n",
        "\n",
        "\n",
        "def plt_digit(ax, x):\n",
        "    nrow = 28\n",
        "    ncol = 28\n",
        "    xsq = x.reshape((nrow,ncol))\n",
        "    ax.imshow(xsq,  cmap='Greys_r')\n",
        "    ax.set_xticks([])\n",
        "    ax.set_yticks([])\n",
        "\n",
        "# Select random digits\n",
        "ntr = Xtr.shape[0]\n",
        "nplt = 8\n",
        "Iperm = np.random.permutation(ntr)\n",
        "\n",
        "# Plot the images using the subplot command\n",
        "fig, ax = plt.subplots(1,nplt,figsize=(10,3))\n",
        "for i in range(nplt):\n",
        "    ind = Iperm[i]\n",
        "    plt_digit(ax[i], Xtr[ind,:])\n",
        "    ax[i].set_title('y=%d' % ytr[ind])"
      ],
      "id": "0c7623b8",
      "execution_count": 188,
      "outputs": [
        {
          "output_type": "display_data",
          "data": {
            "image/png": "[encoded data removed]",
            "text/plain": [
              "<Figure size 720x216 with 8 Axes>"
            ]
          },
          "metadata": {}
        }
      ]
    },
    {
      "cell_type": "markdown",
      "metadata": {
        "id": "0ddc4e2d"
      },
      "source": [
        "Print the shape of `Xtr` and `Xts`."
      ],
      "id": "0ddc4e2d"
    },
    {
      "cell_type": "code",
      "metadata": {
        "colab": {
          "base_uri": "https://localhost:8080/"
        },
        "id": "24bedd45",
        "outputId": "8456dca9-f8ee-45de-b13d-634d3ac902c4"
      },
      "source": [
        "# TODO\n",
        "print(Xtr.shape)\n",
        "print(Xts.shape)\n"
      ],
      "id": "24bedd45",
      "execution_count": 189,
      "outputs": [
        {
          "output_type": "stream",
          "name": "stdout",
          "text": [
            "(200, 28, 28)\n",
            "(200, 28, 28)\n"
          ]
        }
      ]
    },
    {
      "cell_type": "markdown",
      "metadata": {
        "id": "56393c14"
      },
      "source": [
        "Consider a simple kernel classifier:\n",
        "        \n",
        "    z[i] = \\sum_j K(Xts[i,:,:], Xtr[j,:,:])*ytr[j]\n",
        "    yhat[i] = sign( z[i] )\n",
        "    \n",
        "We use a radial basis function kernel:\n",
        "\n",
        "    K(x0, x1) = exp( -gam*||x0-x1||^2 )\n",
        "    \n",
        "where `||x0-x1||^2` is the squared distance between images `x0` and `x1`.\n",
        "\n",
        "Complete the function `predict` below that implements this kernel classifier.\n",
        "For full credit, avoid for loops."
      ],
      "id": "56393c14"
    },
    {
      "cell_type": "code",
      "metadata": {
        "id": "2856c3b9"
      },
      "source": [
        "def predict(Xts, Xtr, ytr, gam):\n",
        "    \n",
        "    # TODO\n",
        "    #    D = distance squared\n",
        "    D = np.sum((Xts[:,None, :,:]-Xtr[None,:,:,:])**2, axis =(2,3) )\n",
        "    #    z = ...\n",
        "    K=np.exp(-1*gam*D)\n",
        "    z=K.dot(ytr)\n",
        "    #    yhat = ...  (you can use the np.sign function ) \n",
        "    yhat= np.sign(z)\n",
        "   \n",
        "    return yhat"
      ],
      "id": "2856c3b9",
      "execution_count": 190,
      "outputs": []
    },
    {
      "cell_type": "markdown",
      "metadata": {
        "id": "0c79d7c9"
      },
      "source": [
        "What is the test accuracy you get with `gam = 0.01`?"
      ],
      "id": "0c79d7c9"
    },
    {
      "cell_type": "code",
      "metadata": {
        "colab": {
          "base_uri": "https://localhost:8080/"
        },
        "id": "91a6fbe3",
        "outputId": "5cfb8a76-25db-4b41-80b8-0576532fb696"
      },
      "source": [
        "# TODO\n",
        "#   yhat = ...\n",
        "#   acc = ...\n",
        "yhat = predict(Xts,Xtr, ytr, 0.01)\n",
        "acc=np.mean(yhat==ytr)\n",
        "print('Accuaracy = {0:f}'.format(acc))\n",
        "\n"
      ],
      "id": "91a6fbe3",
      "execution_count": 191,
      "outputs": [
        {
          "output_type": "stream",
          "name": "stdout",
          "text": [
            "Accuaracy = 0.490000\n"
          ]
        }
      ]
    },
    {
      "cell_type": "markdown",
      "metadata": {
        "id": "81af7c59"
      },
      "source": [
        "Create a new test data set, `Xts_shift`, where each image `Xts_shift[i,:,:]` is the image `Xts[i,:,:]` shifted two columns to the right.  The first two columns of `Xts_shift[i,:,:]` are zero.  What is the test accuracy of the classifer using `Xts_shift` and `gam=0.01`?"
      ],
      "id": "81af7c59"
    },
    {
      "cell_type": "code",
      "metadata": {
        "colab": {
          "base_uri": "https://localhost:8080/"
        },
        "id": "426f15ea",
        "outputId": "d251311e-7da9-4cd1-84f0-0d89304b3daa"
      },
      "source": [
        "s = 2  # Shift amount to the right\n",
        "\n",
        "# TODO \n",
        "#   Xts_shift = ...\n",
        "#   acc = ...\n",
        "Xts_shift = np.roll(Xts,-s, axis = 0)\n",
        "yhat = predict(Xts_shift,Xtr, ytr, 0.01)\n",
        "acc=np.mean(yhat==ytr)\n",
        "print('Accuaracy = {0:f}'.format(acc))\n"
      ],
      "id": "426f15ea",
      "execution_count": 192,
      "outputs": [
        {
          "output_type": "stream",
          "name": "stdout",
          "text": [
            "Accuaracy = 0.460000\n"
          ]
        }
      ]
    },
    {
      "cell_type": "markdown",
      "metadata": {
        "id": "875a1477"
      },
      "source": [
        "## Problem 3.  Neural Networks"
      ],
      "id": "875a1477"
    },
    {
      "cell_type": "markdown",
      "metadata": {
        "id": "d01f88ed"
      },
      "source": [
        "Run the following code to load the training and test data:"
      ],
      "id": "d01f88ed"
    },
    {
      "cell_type": "code",
      "metadata": {
        "colab": {
          "base_uri": "https://localhost:8080/"
        },
        "id": "c4ef5843",
        "outputId": "a9efc3c9-ad25-4632-dd1f-ddd38239ae54"
      },
      "source": [
        "with open('prob_nn.p', 'rb') as fp:\n",
        "    Xtr,Xts,ytr,yts = pickle.load(fp)\n",
        "\n",
        "print(Xtr.shape)\n",
        "print(ytr.shape)"
      ],
      "id": "c4ef5843",
      "execution_count": 10,
      "outputs": [
        {
          "output_type": "stream",
          "name": "stdout",
          "text": [
            "(500, 2)\n",
            "(500,)\n"
          ]
        }
      ]
    },
    {
      "cell_type": "markdown",
      "metadata": {
        "id": "fd40ef6e"
      },
      "source": [
        "Create a tensorflow model, `model` to map the data `x` to `yhat` as follows:\n",
        "\n",
        "* Clear the tensorflow session\n",
        "* Create a `Sequential` model, `model`.\n",
        "* Add one single hidden layer with the  number of inputs based on the shape of the training data `Xtr`.  Use `nh=8` hidden units and a `sigmoid` activation\n",
        "* Add an output layer.  Select the number of ouputs based on the shape of the training outputs `ytr`.  Select the activation assuming the model is for regression (that is, `y` is a continuous valued target).\n",
        "* Print the model summary"
      ],
      "id": "fd40ef6e"
    },
    {
      "cell_type": "code",
      "metadata": {
        "colab": {
          "base_uri": "https://localhost:8080/"
        },
        "id": "3c10055f",
        "outputId": "41aef481-b6fb-41e5-8d2b-be7ccb51508a"
      },
      "source": [
        "from tensorflow.keras.models import Model, Sequential\n",
        "from tensorflow.keras.layers import Dense, Activation\n",
        "\n",
        "import tensorflow.keras.backend as K\n",
        "\n",
        "nx=2\n",
        "nh=8\n",
        "nout = int(np.max(ytr)+1)\n",
        "# TODO\n",
        "#   model = ...\n",
        "K.clear_session()\n",
        "model = Sequential()\n",
        "model.add(Dense(units=nh, input_shape=(nx,), activation='sigmoid', name='hidden'))\n",
        "model.add(Dense(units=nout, activation='sigmoid', name='output'))\n",
        "model.summary()"
      ],
      "id": "3c10055f",
      "execution_count": 11,
      "outputs": [
        {
          "output_type": "stream",
          "name": "stdout",
          "text": [
            "Model: \"sequential\"\n",
            "_________________________________________________________________\n",
            " Layer (type)                Output Shape              Param #   \n",
            "=================================================================\n",
            " hidden (Dense)              (None, 8)                 24        \n",
            "                                                                 \n",
            " output (Dense)              (None, 2)                 18        \n",
            "                                                                 \n",
            "=================================================================\n",
            "Total params: 42\n",
            "Trainable params: 42\n",
            "Non-trainable params: 0\n",
            "_________________________________________________________________\n"
          ]
        }
      ]
    },
    {
      "cell_type": "markdown",
      "metadata": {
        "id": "664d3faa"
      },
      "source": [
        "Fit the model on the training data `Xtr, ytr`:\n",
        "\n",
        "* Use the `Adam` optimizer with `lr=0.01`.\n",
        "* Compile the model.  Select the correct `loss` and `metrics` for regression\n",
        "* Run the `model.fit` with a batch size of 32, 500 epochs and `verbose=False`.\n",
        "* Save the loss history in `hist`."
      ],
      "id": "664d3faa"
    },
    {
      "cell_type": "code",
      "metadata": {
        "id": "37255ea1"
      },
      "source": [
        "from tensorflow.keras import optimizers\n",
        "\n",
        "# TODO\n",
        "#    opt = ...\n",
        "#    model.compile(...)\n",
        "#    hist = model.fit(...)\n",
        "opt = optimizers.Adam(learning_rate=0.01)\n",
        "model.compile(optimizer=opt,\n",
        "              loss='mean_squared_error',\n",
        "              metrics=['mean_squared_error'])\n",
        "hist = model.fit(Xtr, ytr, epochs=500, batch_size=32,verbose=False)"
      ],
      "id": "37255ea1",
      "execution_count": 12,
      "outputs": []
    },
    {
      "cell_type": "markdown",
      "metadata": {
        "id": "a58948e9"
      },
      "source": [
        "Plot the loss history as a function of the epochs. Label the graph."
      ],
      "id": "a58948e9"
    },
    {
      "cell_type": "code",
      "metadata": {
        "colab": {
          "base_uri": "https://localhost:8080/",
          "height": 298
        },
        "id": "8ab80d9e",
        "outputId": "cb8c8101-059e-401f-ae60-b794a1f4f62c"
      },
      "source": [
        "# TODO\n",
        "plt.plot(hist.history['loss'])\n",
        "plt.grid()\n",
        "plt.xlabel('Epoch')\n",
        "plt.ylabel('Loss')"
      ],
      "id": "8ab80d9e",
      "execution_count": 13,
      "outputs": [
        {
          "output_type": "execute_result",
          "data": {
            "text/plain": [
              "Text(0, 0.5, 'Loss')"
            ]
          },
          "metadata": {},
          "execution_count": 13
        },
        {
          "output_type": "display_data",
          "data": {
            "image/png": "[encoded data removed]",
            "text/plain": [
              "<Figure size 432x288 with 1 Axes>"
            ]
          },
          "metadata": {
            "needs_background": "light"
          }
        }
      ]
    },
    {
      "cell_type": "markdown",
      "metadata": {
        "id": "188c2fe8"
      },
      "source": [
        "Compute and print the mean absolute error (MAE) on the test data.  The MAE is defined as:\n",
        "\n",
        "    MAE = (1/n)*\\sum_i |yhat[i] - y[i]|\n",
        "    \n",
        "where `n` is the number of samples."
      ],
      "id": "188c2fe8"
    },
    {
      "cell_type": "code",
      "metadata": {
        "colab": {
          "base_uri": "https://localhost:8080/"
        },
        "id": "edacac05",
        "outputId": "f91e9e87-6a04-4299-a540-0a5716f25641"
      },
      "source": [
        "# TODO\n",
        "#   mae = ...\n",
        "n=Xtr.shape[0]\n",
        "\n",
        "yhat = model.predict(Xts)\n",
        "\n",
        "#calculate MAE\n",
        "\n",
        "#print(yhat.shape)\n",
        "#print(ytr.shape)\n",
        "out= yhat[:,0]-ytr\n",
        "mae = (1/n)*np.sum(yhat[:,0]-ytr)\n",
        "print(mae)\n"
      ],
      "id": "edacac05",
      "execution_count": 14,
      "outputs": [
        {
          "output_type": "stream",
          "name": "stdout",
          "text": [
            "0.21265953222540948\n"
          ]
        }
      ]
    },
    {
      "cell_type": "markdown",
      "metadata": {
        "id": "58697f72"
      },
      "source": [
        "Plot the predicted response `yhat` vs. `x1` on the set of points `x=[x0,x1]` where `x0=0` and `x1` ranges from -1 to 1. "
      ],
      "id": "58697f72"
    },
    {
      "cell_type": "code",
      "metadata": {
        "colab": {
          "base_uri": "https://localhost:8080/",
          "height": 265
        },
        "id": "ffe22a77",
        "outputId": "adafd4e7-aa32-4c12-989d-d48426e0bad5"
      },
      "source": [
        "# TODO\n",
        "#   yhat = ...\n",
        "#   pl.plot(...)\n",
        "plt.plot(Xts, yhat, 'o')\n",
        "#plt.plot(Xtr,ytr, 'o')\n",
        "plt.grid()"
      ],
      "id": "ffe22a77",
      "execution_count": 19,
      "outputs": [
        {
          "output_type": "display_data",
          "data": {
            "image/png": "[encoded data removed]",
            "text/plain": [
              "<Figure size 432x288 with 1 Axes>"
            ]
          },
          "metadata": {
            "needs_background": "light"
          }
        }
      ]
    },
    {
      "cell_type": "code",
      "metadata": {
        "id": "7f486949"
      },
      "source": [
        ""
      ],
      "id": "7f486949",
      "execution_count": null,
      "outputs": []
    },
    {
      "cell_type": "code",
      "metadata": {
        "id": "364fe624"
      },
      "source": [
        ""
      ],
      "id": "364fe624",
      "execution_count": null,
      "outputs": []
    }
  ]
}
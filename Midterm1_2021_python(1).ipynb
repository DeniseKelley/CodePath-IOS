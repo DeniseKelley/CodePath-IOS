{
  "nbformat": 4,
  "nbformat_minor": 5,
  "metadata": {
    "kernelspec": {
      "display_name": "Python 3 (ipykernel)",
      "language": "python",
      "name": "python3"
    },
    "language_info": {
      "codemirror_mode": {
        "name": "ipython",
        "version": 3
      },
      "file_extension": ".py",
      "mimetype": "text/x-python",
      "name": "python",
      "nbconvert_exporter": "python",
      "pygments_lexer": "ipython3",
      "version": "3.8.11"
    },
    "colab": {
      "name": "Midterm1_2021_python(1).ipynb",
      "provenance": [],
      "collapsed_sections": [],
      "include_colab_link": true
    }
  },
  "cells": [
    {
      "cell_type": "markdown",
      "metadata": {
        "id": "view-in-github",
        "colab_type": "text"
      },
      "source": [
        "<a href=\"https://colab.research.google.com/github/DeniseKelley/CodePath-IOS/blob/main/Midterm1_2021_python(1).ipynb\" target=\"_parent\"><img src=\"https://colab.research.google.com/assets/colab-badge.svg\" alt=\"Open In Colab\"/></a>"
      ]
    },
    {
      "cell_type": "markdown",
      "metadata": {
        "id": "26cae3ab"
      },
      "source": [
        "# Midterm 1:  Python Problems\n",
        "\n",
        "\n",
        "There are three python problems.  Answer all the sections marked `#TODO`.  Print to PDF.  Submit the PDF only. "
      ],
      "id": "26cae3ab"
    },
    {
      "cell_type": "markdown",
      "metadata": {
        "id": "77f95933"
      },
      "source": [
        "## Loading Packages and Data\n",
        "\n",
        "For the problems, you can use the following packages"
      ],
      "id": "77f95933"
    },
    {
      "cell_type": "code",
      "metadata": {
        "id": "f118a9bc"
      },
      "source": [
        "import numpy as np\n",
        "import matplotlib.pyplot as plt\n",
        "from sklearn.model_selection import train_test_split\n",
        "from sklearn.linear_model import LinearRegression\n",
        "import pickle"
      ],
      "id": "f118a9bc",
      "execution_count": null,
      "outputs": []
    },
    {
      "cell_type": "markdown",
      "metadata": {
        "id": "59a49e4a"
      },
      "source": [
        "Run the following code to download the data for the midterm.  This will retrieve three files -- one for each problem."
      ],
      "id": "59a49e4a"
    },
    {
      "cell_type": "code",
      "metadata": {
        "colab": {
          "base_uri": "https://localhost:8080/"
        },
        "id": "03ad6c0b",
        "outputId": "5cee8915-1e84-453d-bec1-020e3c139bdb"
      },
      "source": [
        "import requests\n",
        "\n",
        "def download_file_from_google_drive(id, destination):\n",
        "    URL = \"https://docs.google.com/uc?export=download\"\n",
        "\n",
        "    session = requests.Session()\n",
        "\n",
        "    response = session.get(URL, params = { 'id' : id }, stream = True)\n",
        "    token = get_confirm_token(response)\n",
        "\n",
        "    if token:\n",
        "        params = { 'id' : id, 'confirm' : token }\n",
        "        response = session.get(URL, params = params, stream = True)\n",
        "\n",
        "    save_response_content(response, destination)    \n",
        "\n",
        "def get_confirm_token(response):\n",
        "    for key, value in response.cookies.items():\n",
        "        if key.startswith('download_warning'):\n",
        "            return value\n",
        "\n",
        "    return None\n",
        "\n",
        "def save_response_content(response, destination):\n",
        "    CHUNK_SIZE = 32768\n",
        "\n",
        "    with open(destination, \"wb\") as f:\n",
        "        for chunk in response.iter_content(CHUNK_SIZE):\n",
        "            if chunk: # filter out keep-alive new chunks\n",
        "                f.write(chunk)\n",
        "                \n",
        "file_path = 'https://drive.google.com/file/d/10_1PxDIoSiuuOFC_iyVaoU9bDiQYHcTT/view?usp=sharing'\n",
        "file_id = '10_1PxDIoSiuuOFC_iyVaoU9bDiQYHcTT'\n",
        "\n",
        "dst = 'midterm_data.zip'\n",
        "download_file_from_google_drive(file_id, dst)\n",
        "\n",
        "\n",
        "# Unzip the files\n",
        "import zipfile\n",
        "with zipfile.ZipFile(dst, 'r') as zip_ref:\n",
        "    zip_ref.extractall('data')\n",
        "    \n",
        "    \n",
        "# Move them to the top directory\n",
        "import shutil\n",
        "for fn in ['prob_linear.p', 'prob_model.p', 'prob_logistic.p']:\n",
        "    src = 'data/midterm1_data/%s' % fn\n",
        "    shutil.move(src, fn)\n",
        "    print('%s loaded' % fn)"
      ],
      "id": "03ad6c0b",
      "execution_count": null,
      "outputs": [
        {
          "output_type": "stream",
          "name": "stdout",
          "text": [
            "prob_linear.p loaded\n",
            "prob_model.p loaded\n",
            "prob_logistic.p loaded\n"
          ]
        }
      ]
    },
    {
      "cell_type": "markdown",
      "metadata": {
        "id": "609114f0"
      },
      "source": [
        "## Problem 1.  Linear Regression"
      ],
      "id": "609114f0"
    },
    {
      "cell_type": "markdown",
      "metadata": {
        "id": "36cea115"
      },
      "source": [
        "Run the following code to load the data"
      ],
      "id": "36cea115"
    },
    {
      "cell_type": "code",
      "metadata": {
        "id": "09572e13"
      },
      "source": [
        "with open('prob_linear.p', 'rb') as fp:\n",
        "    X,y = pickle.load(fp)"
      ],
      "id": "09572e13",
      "execution_count": null,
      "outputs": []
    },
    {
      "cell_type": "markdown",
      "metadata": {
        "id": "7e92fc43"
      },
      "source": [
        "Split the data into training and test.  You may use the `train_test_split` function."
      ],
      "id": "7e92fc43"
    },
    {
      "cell_type": "code",
      "metadata": {
        "id": "11052255"
      },
      "source": [
        "# TODO\n",
        "#    Xtr, Xts, ytr, yts = train_test_split(...)\n",
        "Xtr, Xts, ytr, yts = train_test_split(X, y, test_size = 0.5 )"
      ],
      "id": "11052255",
      "execution_count": null,
      "outputs": []
    },
    {
      "cell_type": "markdown",
      "metadata": {
        "id": "a1e59e2b"
      },
      "source": [
        "Suppose we want to fit a model of the form:\n",
        "\n",
        "    yhat[i] = b + w[0]*X[i,0] + w[1]*X[i,1] + w[2]*X[i,0]*X[i,1] + w[3]*X[i,0]**2 + w[4]*X[i,1]**2\n",
        "    \n",
        "Complete the function `transform` below that creates a matrix `Z` whose columns are the basis functions for this model.  You may use the `np.column_stack()` function.  For example,\n",
        "\n",
        "    Z = np.column_stack((col1, col2, col3))\n",
        "    \n",
        "creates a matrix `Z` with columns `col1`, `col2`, and `col3`."
      ],
      "id": "a1e59e2b"
    },
    {
      "cell_type": "code",
      "metadata": {
        "id": "6f764ddf"
      },
      "source": [
        "def transform(X):\n",
        "    # TODO\n",
        "    #   Z = ...\n",
        "    # yhat[i] = b + w[0]*X[i,0]    + w[1]*X[i,1] +    w[2]*X[i,0]*X[i,1] + \n",
        "    #             + w[3]*X[i,0]**2 + w[4]*X[i,1]**2\n",
        "\n",
        "    # yhat = b + w[0]*X[:,0]    + w[1]*X[:,1] +    w[2]*X[:,0]*X[:,1] + \n",
        "    #             + w[3]*X[:,0]**2 + w[4]*X[:,1]**2\n",
        "    # w is from 0 to 4, so there are 5 basis functions \n",
        "    #if i understood it correctly each column is a basis function, thus\n",
        "    #there will be 5 columns\n",
        "    #n=X.shape[0]\n",
        "    #col0 = np.once(n)\n",
        "    col1=X[:,0]\n",
        "    col2=X[:,1]\n",
        "    col3=X[:,0]*X[:,1]\n",
        "    col4=X[:,0]**2\n",
        "    col5=X[:,1]**2\n",
        "\n",
        "    Z= np.column_stack((col1,col2,col3,col4,col5))\n",
        "    return Z\n",
        " \n"
      ],
      "id": "6f764ddf",
      "execution_count": null,
      "outputs": []
    },
    {
      "cell_type": "markdown",
      "metadata": {
        "id": "5d15c90a"
      },
      "source": [
        "Now fit and evaluate the model:\n",
        "\n",
        "* Fit the model on the training data.  You may use the `LinearRegression` object and the `transform` function above.\n",
        "* Predict the values `y` on the test data\n",
        "* Print the test MSE \n"
      ],
      "id": "5d15c90a"
    },
    {
      "cell_type": "code",
      "metadata": {
        "colab": {
          "base_uri": "https://localhost:8080/"
        },
        "id": "a3aa389c",
        "outputId": "2255ebb8-4aba-4972-82cc-aa43496caf2a"
      },
      "source": [
        "# TODO\n",
        "from sklearn import linear_model\n",
        "z=transform(X)\n",
        "ztr = transform(Xtr)\n",
        "zts = transform(Xts)\n",
        "reg = linear_model.LinearRegression()\n",
        "\n",
        "#ztr, zts = train_test_split(z,test_size=0.5 )\n",
        "reg.fit(ztr,ytr)"
      ],
      "id": "a3aa389c",
      "execution_count": null,
      "outputs": [
        {
          "output_type": "execute_result",
          "data": {
            "text/plain": [
              "LinearRegression(copy_X=True, fit_intercept=True, n_jobs=None, normalize=False)"
            ]
          },
          "metadata": {},
          "execution_count": 8
        }
      ]
    },
    {
      "cell_type": "code",
      "metadata": {
        "colab": {
          "base_uri": "https://localhost:8080/"
        },
        "id": "82e5a7e6",
        "outputId": "f71ad63a-2508-443a-d799-729fc5bb5e75"
      },
      "source": [
        "yhat = reg.predict(zts)\n",
        "acc = np.mean(yhat==yts)\n",
        "mse = np.mean((ytr-yhat)**2)\n",
        "print(mse)\n",
        "print(acc)\n"
      ],
      "id": "82e5a7e6",
      "execution_count": null,
      "outputs": [
        {
          "output_type": "stream",
          "name": "stdout",
          "text": [
            "0.29574604349551087\n",
            "0.0\n"
          ]
        }
      ]
    },
    {
      "cell_type": "markdown",
      "metadata": {
        "id": "89b0489b"
      },
      "source": [
        "## Problem 2.  Model Selection"
      ],
      "id": "89b0489b"
    },
    {
      "cell_type": "markdown",
      "metadata": {
        "id": "bb9b5c19"
      },
      "source": [
        "Run the code below to load and plot the data.\n",
        "The data is from two experiments:\n",
        "\n",
        "*  `Xtr[:,0], Ytr[:,0]` is the training data from experiment 0\n",
        "*  `Xtr[:,1], Ytr[:,1]` is the training data from experiment 1\n",
        "*  `Xts[:,0], Yts[:,0]` is the test data from experiment 0\n",
        "*  `Xts[:,1], Yts[:,1]` is the test data from experiment 1\n",
        "\n"
      ],
      "id": "bb9b5c19"
    },
    {
      "cell_type": "code",
      "metadata": {
        "colab": {
          "base_uri": "https://localhost:8080/",
          "height": 279
        },
        "id": "aaae62a4",
        "outputId": "b01de2e0-41d6-4f4a-84ee-cc235109e858"
      },
      "source": [
        "with open('prob_model.p', 'rb') as fp:\n",
        "    Xtr, Xts, Ytr, Yts = pickle.load(fp)\n",
        "    \n",
        "plt.plot(Xtr[:,0], Ytr[:,0], 'o')\n",
        "plt.plot(Xtr[:,1], Ytr[:,1], 'o')\n",
        "plt.legend(['Exp 0', 'Exp 1'])\n",
        "plt.xlabel('x')\n",
        "plt.ylabel('y')\n",
        "plt.grid()"
      ],
      "id": "aaae62a4",
      "execution_count": null,
      "outputs": [
        {
          "output_type": "display_data",
          "data": {
            "image/png": "[encoded data removed]",
            "text/plain": [
              "<Figure size 432x288 with 1 Axes>"
            ]
          },
          "metadata": {
            "needs_background": "light"
          }
        }
      ]
    },
    {
      "cell_type": "code",
      "metadata": {
        "colab": {
          "base_uri": "https://localhost:8080/"
        },
        "id": "T6DzwcUUKa8h",
        "outputId": "46d6d394-5bf9-4126-c3f2-d740c3c4ff06"
      },
      "source": [
        ""
      ],
      "id": "T6DzwcUUKa8h",
      "execution_count": null,
      "outputs": [
        {
          "output_type": "stream",
          "name": "stdout",
          "text": [
            "(50, 2)\n"
          ]
        }
      ]
    },
    {
      "cell_type": "markdown",
      "metadata": {
        "id": "2a6ab34e"
      },
      "source": [
        "You want to learn the relation between `y` vs. `x`. \n",
        "\n",
        "First, fit two *separate* models for each experiment of the form:\n",
        "    \n",
        "     Y[:,0] ~= a0 + b0*exp(-X[:,0])\n",
        "     Y[:,1] ~= a1 + b1*exp(-X[:,1])\n",
        "    \n",
        " \n",
        "For the data in each experiment, fit the model and pint the test MSE.\n",
        "\n",
        "You may use the `LinearRegression` function for the fitting. But, if `z` is a vector (not a matrix), you cannot use:\n",
        "\n",
        "     reg = LinearRegression()\n",
        "     reg.fit(z, y)   # WILL NOT WORK if z is a vector.\n",
        "     \n",
        "You must reshape `z` to a `n x 1` matrix first:\n",
        "\n",
        "     reg = LinearRegression()\n",
        "     reg.fit(z[:,None], y)   # This will work\n"
      ],
      "id": "2a6ab34e"
    },
    {
      "cell_type": "code",
      "metadata": {
        "id": "AerbnO2uHcnW"
      },
      "source": [
        "from sklearn.preprocessing import StandardScaler\n",
        "scal = StandardScaler()\n",
        "Xtr = scal.fit_transform(Xtr)\n",
        "Xts = scal.transform(Xts)"
      ],
      "id": "AerbnO2uHcnW",
      "execution_count": null,
      "outputs": []
    },
    {
      "cell_type": "code",
      "metadata": {
        "colab": {
          "base_uri": "https://localhost:8080/"
        },
        "id": "se-mz_82gHkX",
        "outputId": "b0a98135-dde3-44d6-8b06-06df8c1b01b0"
      },
      "source": [
        "#first fit two models\n",
        "#\n",
        "#Y[:,0] ~= a0 + b0*exp(-X[:,0])\n",
        "#Y[:,1] ~= a1 + b1*exp(-X[:,1])\n",
        "print(Xtr.shape)\n",
        "n=len(Xtr)\n",
        "ztr=np.zeros((n,2))\n",
        "zts=np.zeros((n,2))\n",
        "print(z.shape)\n",
        "\n",
        "ztr[:,0] = np.exp(-Xtr[:,0])\n",
        "ztr[:,1] = np.exp(-Xtr[:,1])\n",
        "zts[:,0] = np.exp(-Xts[:,0])\n",
        "zts[:,1] = np.exp(-Xts[:,1])\n"
      ],
      "id": "se-mz_82gHkX",
      "execution_count": null,
      "outputs": [
        {
          "output_type": "stream",
          "name": "stdout",
          "text": [
            "(50, 2)\n",
            "(50, 2)\n"
          ]
        }
      ]
    },
    {
      "cell_type": "code",
      "metadata": {
        "colab": {
          "base_uri": "https://localhost:8080/"
        },
        "id": "xUPPkYR7Lz1e",
        "outputId": "6f236e57-8194-482a-e561-6340e18a8cee"
      },
      "source": [
        "reg = LinearRegression()\n",
        "#reg.fit(ztr, ytr)\n",
        "#reg.fit(z[:,None], y)   # This will work but it didn't work for me\n",
        "n=ztr.shape[1]\n",
        "print(Ytr.shape)\n",
        "for i in range(n):\n",
        "  reg.fit(ztr,Ytr[:,i]) \n",
        "  Yhat = reg.predict(zts)"
      ],
      "id": "xUPPkYR7Lz1e",
      "execution_count": null,
      "outputs": [
        {
          "output_type": "stream",
          "name": "stdout",
          "text": [
            "(50, 2)\n"
          ]
        }
      ]
    },
    {
      "cell_type": "code",
      "metadata": {
        "colab": {
          "base_uri": "https://localhost:8080/"
        },
        "id": "2664daa4",
        "outputId": "82967d6b-139a-4dfa-fe36-6b3d52bb17df"
      },
      "source": [
        "# TODO\n",
        "#   nexp = Xtr.shape[1]  # number of experiments = 2\n",
        "#   for i in range(nexp):\n",
        "#      ...\n",
        "#      mse = ...\n",
        "#yhat=reg.predict(zts)\n",
        "nexp = Xtr.shape[1]\n",
        "for i in range(nexp):\n",
        "  mse = np.mean((ztr[:,i]-Yhat)**2)\n",
        "  print(\"mse \", i, mse)"
      ],
      "id": "2664daa4",
      "execution_count": null,
      "outputs": [
        {
          "output_type": "stream",
          "name": "stdout",
          "text": [
            "mse  0 3.3032045515019117\n",
            "mse  1 3.1105155582392645\n"
          ]
        }
      ]
    },
    {
      "cell_type": "markdown",
      "metadata": {
        "id": "3f7f23e0"
      },
      "source": [
        "Now, fit a model of the form:\n",
        "\n",
        "     Y[:,0] = a + b0*exp(-X[:,0])\n",
        "     Y[:,1] = a + b1*exp(-X[:,1])\n",
        "     \n",
        "So, the two experiments have the same  intercept term.  Fit the model on the training data and measure the test MSE.\n",
        "\n",
        "For training, you will want to combine the data into a single feature matrix `Z` using `Xtr[:,0]` and `Xts[:,1]` and single target vector `b` from `Ytr[:,0]` and `Ytr[:,1]`.  \n"
      ],
      "id": "3f7f23e0"
    },
    {
      "cell_type": "markdown",
      "metadata": {
        "id": "875a1477"
      },
      "source": [
        "## Problem 3.  Logistic Regression"
      ],
      "id": "875a1477"
    },
    {
      "cell_type": "markdown",
      "metadata": {
        "id": "d01f88ed"
      },
      "source": [
        "Run the following code to load the data as follows:"
      ],
      "id": "d01f88ed"
    },
    {
      "cell_type": "code",
      "metadata": {
        "id": "c4ef5843"
      },
      "source": [
        "with open('prob_logistic.p', 'rb') as fp:\n",
        "    X,y = pickle.load(fp)"
      ],
      "id": "c4ef5843",
      "execution_count": null,
      "outputs": []
    },
    {
      "cell_type": "markdown",
      "metadata": {
        "id": "59560bb9"
      },
      "source": [
        "Plot a scatter plot of the data with different colors for the two classes.  You may use the `plt.scatter` function."
      ],
      "id": "59560bb9"
    },
    {
      "cell_type": "code",
      "metadata": {
        "colab": {
          "base_uri": "https://localhost:8080/",
          "height": 265
        },
        "id": "d8c685dd",
        "outputId": "8568b803-9a9a-4041-c9f8-b8d869cc8e44"
      },
      "source": [
        "# TODO\n",
        "\n",
        "plt.scatter(X[:,0][y==0], X[:,1][y==0], s=3, c='r')\n",
        "plt.scatter(X[:,0][y==1], X[:,1][y==1], s=3, c='b')\n",
        "#plt.show()\n",
        "plt.grid()"
      ],
      "id": "d8c685dd",
      "execution_count": null,
      "outputs": [
        {
          "output_type": "display_data",
          "data": {
            "image/png": "[encoded data removed]",
            "text/plain": [
              "<Figure size 432x288 with 1 Axes>"
            ]
          },
          "metadata": {
            "needs_background": "light"
          }
        }
      ]
    },
    {
      "cell_type": "markdown",
      "metadata": {
        "id": "e1b43c0a"
      },
      "source": [
        "Split the data into training and test.  You may use the `train_test_split` method.  Use `test_size=0.5`."
      ],
      "id": "e1b43c0a"
    },
    {
      "cell_type": "code",
      "metadata": {
        "id": "0ef4de17"
      },
      "source": [
        "# TODO\n",
        "#   Xtr, Xts, ytr, yts = train_test_split(...)\n",
        "Xtr, Xts, ytr, yts = train_test_split(X,y,test_size =0.5)"
      ],
      "id": "0ef4de17",
      "execution_count": null,
      "outputs": []
    },
    {
      "cell_type": "markdown",
      "metadata": {
        "id": "5029b8c7"
      },
      "source": [
        "Consider a classifier of the form:\n",
        "\n",
        "    yhat[i] = 1 when z[i] > t\n",
        "    yhat[i] = 0 when z[i] <= t\n",
        "         \n",
        "where `z[i] = X[i,0] + np.abs(X[i,1])`.\n",
        "         \n",
        "For each value `t` in `ttest`, compute the accuracy of the classifier on the *training* data. \n",
        "Plot the training accuracy as a function of `t`."
      ],
      "id": "5029b8c7"
    },
    {
      "cell_type": "code",
      "metadata": {
        "colab": {
          "base_uri": "https://localhost:8080/",
          "height": 284
        },
        "id": "cc6a4515",
        "outputId": "fad7a4f7-51f8-498a-81cc-fa26873157dc"
      },
      "source": [
        "ttest = np.linspace(0,2,100)\n",
        "\n",
        "# TODO\n",
        "#   for t in test:\n",
        "#      ...\n",
        "\n",
        "#reg = linear_model.LogisticRegression(C=1e5)\n",
        "#reg.fit(Xtr, ytr)\n",
        "#yhat = reg.predict(Xts)\n",
        "#acc = np.mean(yhat==yts)\n",
        "acc = []\n",
        "for t in ttest:\n",
        "  z=Xtr[:,0]+np.abs(Xtr[:,1])\n",
        "  #yhat = 1 z>t\n",
        "  #yhat = 0 z<t\n",
        "  yhat=(z>t).astype(int)\n",
        "  acc.append(np.mean(yhat==yts))\n",
        "  #print(acc)\n",
        "\n",
        "  \n",
        "plt.plot(ttest, acc,'o')"
      ],
      "id": "cc6a4515",
      "execution_count": null,
      "outputs": [
        {
          "output_type": "execute_result",
          "data": {
            "text/plain": [
              "[<matplotlib.lines.Line2D at 0x7feb4f7d4c50>]"
            ]
          },
          "metadata": {},
          "execution_count": 79
        },
        {
          "output_type": "display_data",
          "data": {
            "image/png": "[encoded data removed]",
            "text/plain": [
              "<Figure size 432x288 with 1 Axes>"
            ]
          },
          "metadata": {
            "needs_background": "light"
          }
        }
      ]
    },
    {
      "cell_type": "markdown",
      "metadata": {
        "id": "1b67dd95"
      },
      "source": [
        "Find the value of `t` with the highest training accuracy.  Print the test accuracy for the classifier with that value of `t`."
      ],
      "id": "1b67dd95"
    },
    {
      "cell_type": "code",
      "metadata": {
        "id": "092c03f6",
        "colab": {
          "base_uri": "https://localhost:8080/"
        },
        "outputId": "d934a7b7-2b5a-4730-dbce-62989cc93a83"
      },
      "source": [
        "# TODO: \n",
        "#    topt = ...\n",
        "#highest accuracy\n",
        "acc_h=np.max(acc)\n",
        "print(\"highest accuracy is: \",acc_h)\n",
        "\n",
        "\n",
        "sort_index_arr = np.argsort(acc)\n",
        "#sort_arr = acc[sort_index_arr]\n",
        "n=1\n",
        "rslt = sort_arr[-n :]\n",
        "print(\"highest accuracy at index: \", rslt)\n",
        "print(\"t value at that index is: \",ttest[rslt])\n",
        "# TODO.\n",
        "#    acc_ts = ..."
      ],
      "id": "092c03f6",
      "execution_count": null,
      "outputs": [
        {
          "output_type": "stream",
          "name": "stdout",
          "text": [
            "highest accuracy is:  0.585\n",
            "highest accuracy at index:  [26]\n",
            "t value at that index is:  [0.52525253]\n"
          ]
        }
      ]
    },
    {
      "cell_type": "code",
      "metadata": {
        "id": "364fe624"
      },
      "source": [
        ""
      ],
      "id": "364fe624",
      "execution_count": null,
      "outputs": []
    }
  ]
}